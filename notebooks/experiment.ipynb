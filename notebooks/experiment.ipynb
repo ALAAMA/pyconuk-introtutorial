{
 "cells": [
  {
   "cell_type": "markdown",
   "metadata": {},
   "source": [
    "# Section 3-1 - Deep Learning"
   ]
  },
  {
   "cell_type": "markdown",
   "metadata": {},
   "source": [
    "For detailed steps on extracting and cleaning data, please review Sections 1-0 to 1-2."
   ]
  },
  {
   "cell_type": "markdown",
   "metadata": {},
   "source": [
    "## Pandas - Extracting data"
   ]
  },
  {
   "cell_type": "code",
   "execution_count": 1,
   "metadata": {
    "collapsed": false
   },
   "outputs": [],
   "source": [
    "import pandas as pd\n",
    "import numpy as np\n",
    "\n",
    "df = pd.read_csv('../data/train.csv')"
   ]
  },
  {
   "cell_type": "markdown",
   "metadata": {},
   "source": [
    "## Pandas - Cleaning data"
   ]
  },
  {
   "cell_type": "code",
   "execution_count": 2,
   "metadata": {
    "collapsed": false
   },
   "outputs": [
    {
     "name": "stderr",
     "output_type": "stream",
     "text": [
      "/usr/local/lib/python2.7/site-packages/numpy/lib/arraysetops.py:198: FutureWarning: numpy not_equal will not check object identity in the future. The comparison did not return the same result as suggested by the identity (`is`)) and will change.\n",
      "  flag = np.concatenate(([True], aux[1:] != aux[:-1]))\n"
     ]
    }
   ],
   "source": [
    "df = df.drop(['Name', 'Ticket', 'Cabin'], axis=1)\n",
    "\n",
    "age_mean = df['Age'].mean()\n",
    "df['Age'] = df['Age'].fillna(age_mean)\n",
    "\n",
    "from scipy.stats import mode\n",
    "\n",
    "mode_embarked = mode(df['Embarked'])[0][0]\n",
    "df['Embarked'] = df['Embarked'].fillna(mode_embarked)\n",
    "\n",
    "df['Gender'] = df['Sex'].map({'female': 0, 'male': 1}).astype(int)\n",
    "\n",
    "pd.get_dummies(df['Embarked'], prefix='Embarked').head(10)\n",
    "df = pd.concat([df, pd.get_dummies(df['Embarked'], prefix='Embarked')], axis=1)\n",
    "\n",
    "df = df.drop(['Sex', 'Embarked'], axis=1)\n",
    "\n",
    "cols = df.columns.tolist()\n",
    "cols = [cols[1]] + cols[0:1] + cols[2:]\n",
    "\n",
    "df = df[cols]\n",
    "\n",
    "train_data = df.values"
   ]
  },
  {
   "cell_type": "markdown",
   "metadata": {},
   "source": [
    "## TensorFlow - Training the model"
   ]
  },
  {
   "cell_type": "code",
   "execution_count": 3,
   "metadata": {
    "collapsed": false
   },
   "outputs": [
    {
     "name": "stdout",
     "output_type": "stream",
     "text": [
      "Step #1, avg. loss: 0.79639\n",
      "Step #21, avg. loss: 1.40718\n",
      "Step #41, avg. loss: 0.64990\n",
      "Step #61, avg. loss: 0.64236\n",
      "Step #81, avg. loss: 0.63074\n",
      "Step #101, avg. loss: 0.62585\n",
      "Step #121, avg. loss: 0.61650\n",
      "Step #141, avg. loss: 0.62555\n",
      "Step #161, avg. loss: 0.64157\n",
      "Step #181, avg. loss: 0.61136\n"
     ]
    },
    {
     "data": {
      "text/plain": [
       "TensorFlowDNNClassifier(batch_size=32, continue_training=False,\n",
       "            hidden_units=None, learning_rate=0.1, n_classes=2,\n",
       "            optimizer='SGD', steps=200, tf_master='', tf_random_seed=42)"
      ]
     },
     "execution_count": 3,
     "metadata": {},
     "output_type": "execute_result"
    }
   ],
   "source": [
    "import skflow\n",
    "\n",
    "model = skflow.TensorFlowDNNClassifier(hidden_units=[10, 20, 10], n_classes=2, steps=200)\n",
    "model.fit(train_data[:800, 2:], train_data[:800, 0])"
   ]
  },
  {
   "cell_type": "markdown",
   "metadata": {},
   "source": [
    "## TensorFlow - Making predictions"
   ]
  },
  {
   "cell_type": "code",
   "execution_count": 4,
   "metadata": {
    "collapsed": false
   },
   "outputs": [
    {
     "name": "stdout",
     "output_type": "stream",
     "text": [
      "prediction accuracy: 0.725274725275\n"
     ]
    }
   ],
   "source": [
    "y_test = train_data[800:, 0]\n",
    "y_prediction = model.predict(train_data[800:, 2:])\n",
    "\n",
    "print \"prediction accuracy:\", np.sum(y_test == y_prediction)*1./len(y_test)"
   ]
  },
  {
   "cell_type": "code",
   "execution_count": 8,
   "metadata": {
    "collapsed": false
   },
   "outputs": [
    {
     "name": "stdout",
     "output_type": "stream",
     "text": [
      "Step #1, avg. loss: 2.40378\n",
      "Step #101, avg. loss: 0.77554\n",
      "Step #201, avg. loss: 0.66494\n",
      "Step #301, avg. loss: 0.66361\n",
      "Step #401, avg. loss: 0.66820\n",
      "Step #501, avg. loss: 0.66479\n",
      "Step #601, avg. loss: 0.66905\n",
      "Step #701, avg. loss: 0.67118\n",
      "Step #801, avg. loss: 0.67094\n",
      "Step #901, avg. loss: 0.66608\n",
      "prediction accuracy: 0.626373626374\n"
     ]
    }
   ],
   "source": [
    "model = skflow.TensorFlowDNNClassifier(hidden_units=[10, 20, 10], n_classes=2, steps=1000)\n",
    "model.fit(train_data[:800, 2:], train_data[:800, 0])\n",
    "\n",
    "y_test = train_data[800:, 0]\n",
    "y_prediction = model.predict(train_data[800:, 2:])\n",
    "\n",
    "print \"prediction accuracy:\", np.sum(y_test == y_prediction)*1./len(y_test)"
   ]
  },
  {
   "cell_type": "code",
   "execution_count": 9,
   "metadata": {
    "collapsed": false
   },
   "outputs": [
    {
     "name": "stdout",
     "output_type": "stream",
     "text": [
      "Step #1, avg. loss: 1.27684\n",
      "Step #101, avg. loss: 0.78364\n",
      "Step #201, avg. loss: 0.61797\n",
      "Step #301, avg. loss: 0.61116\n",
      "Step #401, avg. loss: 0.61044\n",
      "Step #501, avg. loss: 0.60140\n",
      "Step #601, avg. loss: 0.60690\n",
      "Step #701, avg. loss: 0.59867\n",
      "Step #801, avg. loss: 0.60085\n",
      "Step #901, avg. loss: 0.58348\n",
      "prediction accuracy: 0.791208791209\n"
     ]
    }
   ],
   "source": [
    "model = skflow.TensorFlowDNNClassifier(hidden_units=[10, 20, 10], n_classes=2, steps=1000, learning_rate=0.05)\n",
    "model.fit(train_data[:800, 2:], train_data[:800, 0])\n",
    "\n",
    "y_test = train_data[800:, 0]\n",
    "y_prediction = model.predict(train_data[800:, 2:])\n",
    "\n",
    "print \"prediction accuracy:\", np.sum(y_test == y_prediction)*1./len(y_test)"
   ]
  },
  {
   "cell_type": "code",
   "execution_count": 10,
   "metadata": {
    "collapsed": false
   },
   "outputs": [
    {
     "name": "stdout",
     "output_type": "stream",
     "text": [
      "Step #1, avg. loss: 1.08632\n",
      "Step #101, avg. loss: 0.75644\n",
      "Step #201, avg. loss: 0.60330\n",
      "Step #301, avg. loss: 0.59194\n",
      "Step #401, avg. loss: 0.59376\n",
      "Step #501, avg. loss: 0.57827\n",
      "Step #601, avg. loss: 0.58494\n",
      "Step #701, avg. loss: 0.57669\n",
      "Step #801, avg. loss: 0.56969\n",
      "Step #901, avg. loss: 0.57965\n",
      "prediction accuracy: 0.813186813187\n"
     ]
    }
   ],
   "source": [
    "model = skflow.TensorFlowDNNClassifier(hidden_units=[10, 20, 10], n_classes=2, steps=1000, learning_rate=0.05, batch_size=128)\n",
    "model.fit(train_data[:800, 2:], train_data[:800, 0])\n",
    "\n",
    "y_test = train_data[800:, 0]\n",
    "y_prediction = model.predict(train_data[800:, 2:])\n",
    "\n",
    "print \"prediction accuracy:\", np.sum(y_test == y_prediction)*1./len(y_test)"
   ]
  },
  {
   "cell_type": "code",
   "execution_count": 11,
   "metadata": {
    "collapsed": false
   },
   "outputs": [
    {
     "name": "stdout",
     "output_type": "stream",
     "text": [
      "Step #1, avg. loss: 1.00320\n",
      "Step #101, avg. loss: 0.74897\n",
      "Step #201, avg. loss: 0.60120\n",
      "Step #301, avg. loss: 0.59732\n",
      "Step #401, avg. loss: 0.58784\n",
      "Step #501, avg. loss: 0.57602\n",
      "Step #601, avg. loss: 0.58052\n",
      "Step #701, avg. loss: 0.57117\n",
      "Step #801, avg. loss: 0.56389\n",
      "Step #901, avg. loss: 0.56997\n",
      "prediction accuracy: 0.813186813187\n"
     ]
    }
   ],
   "source": [
    "model = skflow.TensorFlowDNNClassifier(hidden_units=[10, 20, 10], n_classes=2, steps=1000, learning_rate=0.05, batch_size=256)\n",
    "model.fit(train_data[:800, 2:], train_data[:800, 0])\n",
    "\n",
    "y_test = train_data[800:, 0]\n",
    "y_prediction = model.predict(train_data[800:, 2:])\n",
    "\n",
    "print \"prediction accuracy:\", np.sum(y_test == y_prediction)*1./len(y_test)"
   ]
  },
  {
   "cell_type": "code",
   "execution_count": 12,
   "metadata": {
    "collapsed": false
   },
   "outputs": [
    {
     "name": "stdout",
     "output_type": "stream",
     "text": [
      "Step #1, avg. loss: 0.83791\n",
      "Step #1001, avg. loss: 0.62424\n",
      "Step #2001, avg. loss: 0.59769\n",
      "Step #3001, avg. loss: 0.58587\n",
      "Step #4001, avg. loss: 0.57555\n",
      "Step #5001, avg. loss: 0.56656\n",
      "Step #6001, avg. loss: 0.55524\n",
      "Step #7001, avg. loss: 0.54483\n",
      "Step #8001, avg. loss: 0.53159\n",
      "Step #9001, avg. loss: 0.51746\n",
      "prediction accuracy: 0.846153846154\n"
     ]
    }
   ],
   "source": [
    "model = skflow.TensorFlowDNNClassifier(hidden_units=[10, 20, 10], n_classes=2, steps=10000, learning_rate=0.001, batch_size=512)\n",
    "model.fit(train_data[:800, 2:], train_data[:800, 0])\n",
    "\n",
    "y_test = train_data[800:, 0]\n",
    "y_prediction = model.predict(train_data[800:, 2:])\n",
    "\n",
    "print \"prediction accuracy:\", np.sum(y_test == y_prediction)*1./len(y_test)"
   ]
  },
  {
   "cell_type": "code",
   "execution_count": 15,
   "metadata": {
    "collapsed": false
   },
   "outputs": [
    {
     "name": "stdout",
     "output_type": "stream",
     "text": [
      "Step #1, avg. loss: 1.07668\n",
      "Step #1001, avg. loss: 0.62318\n",
      "Step #2001, avg. loss: 0.59618\n",
      "Step #3001, avg. loss: 0.58308\n",
      "Step #4001, avg. loss: 0.57318\n",
      "Step #5001, avg. loss: 0.56236\n",
      "Step #6001, avg. loss: 0.55232\n",
      "Step #7001, avg. loss: 0.54212\n",
      "Step #8001, avg. loss: 0.52699\n",
      "Step #9001, avg. loss: 0.51558\n",
      "prediction accuracy: 0.835164835165\n"
     ]
    }
   ],
   "source": [
    "model = skflow.TensorFlowDNNClassifier(hidden_units=[10, 20, 10], n_classes=2, steps=10000, learning_rate=0.001, batch_size=512)\n",
    "model.fit(train_data[:800, 2:], train_data[:800, 0])\n",
    "\n",
    "y_test = train_data[800:, 0]\n",
    "y_prediction = model.predict(train_data[800:, 2:])\n",
    "\n",
    "print \"prediction accuracy:\", np.sum(y_test == y_prediction)*1./len(y_test)"
   ]
  },
  {
   "cell_type": "code",
   "execution_count": 19,
   "metadata": {
    "collapsed": false
   },
   "outputs": [
    {
     "name": "stdout",
     "output_type": "stream",
     "text": [
      "Step #1, avg. loss: 0.94292\n",
      "Step #1001, avg. loss: 0.62205\n",
      "Step #2001, avg. loss: 0.59644\n",
      "Step #3001, avg. loss: 0.58520\n",
      "Step #4001, avg. loss: 0.57487\n",
      "Step #5001, avg. loss: 0.56464\n",
      "Step #6001, avg. loss: 0.55412\n",
      "Step #7001, avg. loss: 0.54279\n",
      "Step #8001, avg. loss: 0.52879\n",
      "Step #9001, avg. loss: 0.51528\n",
      "prediction accuracy: 0.868131868132\n"
     ]
    }
   ],
   "source": [
    "model = skflow.TensorFlowDNNClassifier(hidden_units=[10, 20, 10], n_classes=2, steps=10000, learning_rate=0.001, batch_size=1024)\n",
    "model.fit(train_data[:800, 2:], train_data[:800, 0])\n",
    "\n",
    "y_test = train_data[800:, 0]\n",
    "y_prediction = model.predict(train_data[800:, 2:])\n",
    "\n",
    "print \"prediction accuracy:\", np.sum(y_test == y_prediction)*1./len(y_test)"
   ]
  },
  {
   "cell_type": "code",
   "execution_count": 20,
   "metadata": {
    "collapsed": false
   },
   "outputs": [
    {
     "name": "stdout",
     "output_type": "stream",
     "text": [
      "Step #1, avg. loss: 11.46145\n",
      "Step #1001, avg. loss: 0.98286\n",
      "Step #2001, avg. loss: 0.57078\n",
      "Step #3001, avg. loss: 0.54324\n",
      "Step #4001, avg. loss: 0.52076\n",
      "Step #5001, avg. loss: 0.49876\n",
      "Step #6001, avg. loss: 0.48330\n",
      "Step #7001, avg. loss: 0.47172\n",
      "Step #8001, avg. loss: 0.46327\n",
      "Step #9001, avg. loss: 0.45581\n",
      "prediction accuracy: 0.846153846154\n"
     ]
    }
   ],
   "source": [
    "model = skflow.TensorFlowDNNClassifier(hidden_units=[20, 40, 20], n_classes=2, steps=10000, learning_rate=0.001, batch_size=1024)\n",
    "model.fit(train_data[:800, 2:], train_data[:800, 0])\n",
    "\n",
    "y_test = train_data[800:, 0]\n",
    "y_prediction = model.predict(train_data[800:, 2:])\n",
    "\n",
    "print \"prediction accuracy:\", np.sum(y_test == y_prediction)*1./len(y_test)"
   ]
  },
  {
   "cell_type": "code",
   "execution_count": 21,
   "metadata": {
    "collapsed": false
   },
   "outputs": [
    {
     "name": "stdout",
     "output_type": "stream",
     "text": [
      "Step #1, avg. loss: 10.09338\n",
      "Step #1001, avg. loss: 0.97243\n",
      "Step #2001, avg. loss: 0.56455\n",
      "Step #3001, avg. loss: 0.53610\n",
      "Step #4001, avg. loss: 0.51265\n",
      "Step #5001, avg. loss: 0.48926\n",
      "Step #6001, avg. loss: 0.47181\n",
      "Step #7001, avg. loss: 0.45922\n",
      "Step #8001, avg. loss: 0.45077\n",
      "Step #9001, avg. loss: 0.44543\n"
     ]
    },
    {
     "data": {
      "text/plain": [
       "TensorFlowDNNClassifier(batch_size=1024, continue_training=False,\n",
       "            hidden_units=None, learning_rate=0.001, n_classes=2,\n",
       "            optimizer='SGD', steps=10000, tf_master='', tf_random_seed=42)"
      ]
     },
     "execution_count": 21,
     "metadata": {},
     "output_type": "execute_result"
    }
   ],
   "source": [
    "model = skflow.TensorFlowDNNClassifier(hidden_units=[20, 40, 20], n_classes=2, steps=10000, learning_rate=0.001, batch_size=1024)\n",
    "model.fit(train_data[:, 2:], train_data[:, 0])"
   ]
  },
  {
   "cell_type": "code",
   "execution_count": 22,
   "metadata": {
    "collapsed": false
   },
   "outputs": [],
   "source": [
    "df_test = pd.read_csv('../data/test.csv')\n",
    "\n",
    "df_test = df_test.drop(['Name', 'Ticket', 'Cabin'], axis=1)\n",
    "\n",
    "df_test['Age'] = df_test['Age'].fillna(age_mean)\n",
    "\n",
    "fare_means = df.pivot_table('Fare', index='Pclass', aggfunc='mean')\n",
    "df_test['Fare'] = df_test[['Fare', 'Pclass']].apply(lambda x:\n",
    "                            fare_means[x['Pclass']] if pd.isnull(x['Fare'])\n",
    "                            else x['Fare'], axis=1)\n",
    "\n",
    "df_test['Gender'] = df_test['Sex'].map({'female': 0, 'male': 1}).astype(int)\n",
    "df_test = pd.concat([df_test, pd.get_dummies(df_test['Embarked'], prefix='Embarked')],\n",
    "                axis=1)\n",
    "\n",
    "df_test = df_test.drop(['Sex', 'Embarked'], axis=1)\n",
    "\n",
    "test_data = df_test.values\n",
    "\n",
    "output = model.predict(test_data[:,1:])"
   ]
  },
  {
   "cell_type": "code",
   "execution_count": 23,
   "metadata": {
    "collapsed": true
   },
   "outputs": [],
   "source": [
    "result = np.c_[test_data[:,0].astype(int), output.astype(int)]\n",
    "\n",
    "\n",
    "df_result = pd.DataFrame(result[:,0:2], columns=['PassengerId', 'Survived'])\n",
    "df_result.to_csv('../results/titanic_3-1.csv', index=False)"
   ]
  },
  {
   "cell_type": "markdown",
   "metadata": {},
   "source": [
    "## Appendix: Installation"
   ]
  },
  {
   "cell_type": "markdown",
   "metadata": {},
   "source": [
    "For Mac:"
   ]
  },
  {
   "cell_type": "raw",
   "metadata": {
    "collapsed": true
   },
   "source": [
    "pip install https://storage.googleapis.com/tensorflow/mac/tensorflow-0.5.0-py2-none-any.whl\n",
    "pip install git+git://github.com/google/skflow.git"
   ]
  },
  {
   "cell_type": "markdown",
   "metadata": {},
   "source": [
    "For Ubuntu:"
   ]
  },
  {
   "cell_type": "raw",
   "metadata": {
    "collapsed": true
   },
   "source": [
    "pip install https://storage.googleapis.com/tensorflow/linux/cpu/tensorflow-0.5.0-cp27-none-linux_x86_64.whl\n",
    "pip install git+git://github.com/google/skflow.git"
   ]
  }
 ],
 "metadata": {
  "kernelspec": {
   "display_name": "Python 2",
   "language": "python",
   "name": "python2"
  },
  "language_info": {
   "codemirror_mode": {
    "name": "ipython",
    "version": 2
   },
   "file_extension": ".py",
   "mimetype": "text/x-python",
   "name": "python",
   "nbconvert_exporter": "python",
   "pygments_lexer": "ipython2",
   "version": "2.7.9"
  }
 },
 "nbformat": 4,
 "nbformat_minor": 0
}
